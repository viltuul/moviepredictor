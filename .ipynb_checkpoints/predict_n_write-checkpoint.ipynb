{
 "cells": [
  {
   "cell_type": "code",
   "execution_count": 74,
   "metadata": {},
   "outputs": [
    {
     "name": "stdout",
     "output_type": "stream",
     "text": [
      "testi.csv Ready!\n"
     ]
    }
   ],
   "source": [
    "import csv_data_parser as cdp\n",
    "\n",
    "cdp.clean('testi.csv')"
   ]
  },
  {
   "cell_type": "code",
   "execution_count": 109,
   "metadata": {},
   "outputs": [],
   "source": [
    "import pandas as pd\n",
    "\n",
    "possibleGenres = ['Action', 'Biography', 'Drama', 'War', 'Sport', 'Crime', 'Game-Show',\n",
    " 'Reality-TV', 'Thriller', 'Documentary', 'Music', 'Romance', 'Adventure', 'Short', \n",
    " 'Comedy','Horror', 'Animation', 'Family', 'Fantasy', 'Sci-Fi', 'Mystery', 'History',\n",
    " 'Western','Musical','Film-Noir','Short','Talk-Show']\n",
    "\n",
    "def fillPredictedValues(fileName):\n",
    "    data = pd.read_csv(fileName, error_bad_lines=False)\n",
    "    data.fillna('',inplace= True)\n",
    "    addBudget(data)\n",
    "    addRating(data)\n",
    "    data.to_csv('predicted' + fileName)\n",
    "\n",
    "def addRating(data):\n",
    "    for row in range(0,len(data.index)-1):\n",
    "        value = data.iloc[row]['rating']\n",
    "        if value == '':\n",
    "            predictedRating = getPredictedBudgetForMovie(data.loc[row])\n",
    "            data.set_value(row,'rating',predictedRating)\n",
    "    return data\n",
    "\n",
    "        \n",
    "def addBudget(data):\n",
    "    for row in range(0,len(data.index)-1):\n",
    "        value = data.iloc[row]['budget']\n",
    "        if value == '':\n",
    "            predictedBudget = getPredictedBudgetForMovie(data.loc[row])\n",
    "            data.set_value(row,'budget',predictedBudget)\n",
    "    return data\n",
    "\n",
    "\n",
    "\n",
    "\n",
    "#Andreas, put here the machine learning or linear regression implementation.\n",
    "def getPredictedBudgetForMovie(movieRowObject):\n",
    "    #movieRowObject['']\n",
    "    return 'miljoonamiljoonaa'\n",
    "\n",
    "def getPredicteRatingForMovie(movieRowObject):\n",
    "    #movieRowObject['title']\n",
    "    return 'miljoonamiljoonaa'\n",
    "\n"
   ]
  }
 ],
 "metadata": {
  "kernelspec": {
   "display_name": "Python 2",
   "language": "python",
   "name": "python2"
  },
  "language_info": {
   "codemirror_mode": {
    "name": "ipython",
    "version": 2
   },
   "file_extension": ".py",
   "mimetype": "text/x-python",
   "name": "python",
   "nbconvert_exporter": "python",
   "pygments_lexer": "ipython2",
   "version": "2.7.12"
  }
 },
 "nbformat": 4,
 "nbformat_minor": 2
}
