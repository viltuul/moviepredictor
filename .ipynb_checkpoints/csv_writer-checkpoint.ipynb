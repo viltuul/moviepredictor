{
 "cells": [
  {
   "cell_type": "code",
   "execution_count": null,
   "metadata": {},
   "outputs": [],
   "source": [
    "import imdb_get_data as igd\n",
    "import csv\n",
    "    \n",
    "#Creates csv file of the movies of the given person. \n",
    "def createCSV(personName):\n",
    "    with open(personName + \".csv\", \"w\") as outfile:\n",
    "        writer = csv.writer(outfile)\n",
    "        personId = igd.searchPersonIdByName(personName)\n",
    "        person = igd.getPerson(personId)\n",
    "        movieIdsInRole = {}\n",
    "        errors = []\n",
    "        writer.writerows([titleRowForCSV()])\n",
    "        for role in igd.roles:\n",
    "            movieIdsInRole = igd.getMovieIdsByRole(person, role)\n",
    "\n",
    "            movies = igd.getMoviesByMovieIds(movieIdsInRole)\n",
    "#           Write one movie at a time, then it's easier to catch and find errors  \n",
    "            for movie in movies:\n",
    "                try:\n",
    "                    data = movieToData(movie,role)\n",
    "                    writer.writerows(data)\n",
    "                    print 'Movie ', movie, ' is now added to the file!'\n",
    "#               If exception occurs write it down.\n",
    "                except Exception as ex:\n",
    "                    exToString = str(movie) + ' Error was caused by: ' + str(ex)\n",
    "                    errors.append(str(exToString))\n",
    "                    \n",
    "    print '\\n Created a csv file! \\n'\n",
    "    #If there were any errors let the user know.\n",
    "    print len(errors), 'Errors'\n",
    "    if len(errors)>0:\n",
    "        print 'Erronous movies', errors\n",
    "# Creates the title row for the values that are to be written in the file. When changing adding more columns to \n",
    "# the file remember to add the titles here also.\n",
    "def titleRowForCSV():\n",
    "    return ['role','title','year','runtime','rating','genres']\n",
    "    \n",
    "# Here one can select the data which gets written on the csv file.\n",
    "# Somehow need to automize errorhandling in this method. Many movies hasn't all the data we might need,\n",
    "# so my idea would be that if there is no data or its 'weird data' we write some fake data here. Or alternatively we\n",
    "# write some value to the column which can be handled in the next phase of our project. You can test how the errors\n",
    "# occur by running createCSV('Daisy Ridley') for example.\n",
    "def movieToData(movie,role):\n",
    "    datarow = []\n",
    "    datarow.append(role)\n",
    "    datarow.append(movie['title'])\n",
    "    datarow.append(movie['year'])\n",
    "    datarow.append(movie['runtime'])\n",
    "    datarow.append(movie['rating'])\n",
    "    datarow.append(movie['genres'])\n",
    "    return [datarow]\n",
    "    \n",
    "igd.print_on = False\n",
    "# Anne sellors has only one movie so it's fast to get and easy to test\n",
    "# Side note Anne Sellors causes exception if print_on is True. Quess some data is missing from her infoset.\n",
    "# createCSV('Anne Sellors')\n",
    "# Also Daisy Ridley hasn't too many movies so easy to test. Causes some errors because movie year is unknown\n",
    "# for some movies.\n",
    "createCSV('daisy ridley')\n",
    "print 'done'"
   ]
  },
  {
   "cell_type": "code",
   "execution_count": null,
   "metadata": {
    "collapsed": true
   },
   "outputs": [],
   "source": [
    "# print movieToData(igd.getMovie('0120338'))"
   ]
  }
 ],
 "metadata": {
  "kernelspec": {
   "display_name": "Python 2",
   "language": "python",
   "name": "python2"
  },
  "language_info": {
   "codemirror_mode": {
    "name": "ipython",
    "version": 2
   },
   "file_extension": ".py",
   "mimetype": "text/x-python",
   "name": "python",
   "nbconvert_exporter": "python",
   "pygments_lexer": "ipython2",
   "version": "2.7.12"
  }
 },
 "nbformat": 4,
 "nbformat_minor": 2
}
