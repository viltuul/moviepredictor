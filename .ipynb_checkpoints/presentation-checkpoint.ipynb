{
 "cells": [
  {
   "cell_type": "code",
   "execution_count": null,
   "metadata": {},
   "outputs": [
    {
     "name": "stdout",
     "output_type": "stream",
     "text": [
      "Creating the csv file. Please wait. This might take a minute.\n",
      "a search_person 'Daisy Ridley' 2017-10-26 10:12:59.367417\n",
      "Person\n",
      "=====\n",
      "Name: Ridley, Daisy\n",
      "\n",
      "b search_person 'Daisy Ridley' 2017-10-26 10:13:00.685608\n",
      "a get_person: '5397459' 2017-10-26 10:13:00.685695\n",
      "Person\n",
      "=====\n",
      "Name: Ridley, Daisy\n",
      "Birth date: 1992-4-10 (London, England, UK).\n",
      "Biography: Daisy Jazz Isobel Ridley is an English actress. She is best known for her breakthrough role as \"Rey\" in the 2015 film, Star Wars: The Force Awakens (2015). Daisy was born in Westminster, London, on April 10, 1992. She is the daughter of Louise Fawkner-Corbett and Chris Ridley. Her great-uncle was Arnold Ridley, an English actor, playwright, and appointed Officer of the Order of the British Empire (OBE), who was best known for his authorship of the play, \"The Ghost Train\", and his role as \"Private Godfrey\" in the British sitcom, Dad's Army (1968). Daisy attended the Tring Park School for Performing Arts, located in Hertfordshire, England, where she trained in musical theater and graduated in 2010, at the age of 18. Aside from acting, her talent repertoire includes ballet, jazz dancing, Latin American, and tap. Her vocal range is mezzo-soprano, where she is notably skilled in jazz and cabaret singing. Upon graduation, Daisy was hired in a number of roles in television, film, and music. She was cast to play \"Jessie\" in the British comedy-drama, Youngers (2013). In 2013, she played \"Fran Bedingfield\" in the BBC series, Casualty (1986), and as \"Charlotte\" in the British comedy, Toast of London (2012). In 2014, she played opposite to Jeremy Piven as \"Roxy Starlet\" in the second season of the ITV series, Mr Selfridge (2013), and as \"Hannah Kennedy\" in two episodes of the BBC crime drama, Silent Witness (1996). She further had roles in short films, including Scrawl, 100% Beef, and Crossed Wires. She was featured in Blue Season, which was entered into the Sci-Fi-London 48-Hour Film Challenge, and Lifesaver, which was nominated for a BAFTA Award. She also appeared in Wiley's British rap music video, Lights On. In April 2014, it was announced that Daisy was cast to play the heroine main protagonist, Rey, in Star Wars: The Force Awakens, the first film in the new trilogy of the Star Wars franchise. Since its release in December 2015, the J.J. Abrams directed movie has received critical acclaim and became the fastest movie, ever, to reach $1 billion at the box office, worldwide. In August 2015, it was announced that she would play the lead role of Taeko in the English dub of the 1991 animated film, Only Yesterday, which is set to be released in 2016. In December 2015, it was announced that Daisy will reprise her role as Rey in the eighth Star Wars film, which will start filming in January 2016 and is scheduled for release in 2017.::Danilo Tadeo, Jr.\n",
      "Last movies acted: Chaos Walking (2019); Peter Rabbit (2018); Ophelia (2018); Star Wars: The Last Jedi (2017); Star Wars: Battlefront II (2017) (VG).\n",
      "\n",
      "b get_person: '5397459' 2017-10-26 10:13:05.158442\n",
      "a person: 'producer' 2017-10-26 10:13:05.158621\n",
      "b person: 'producer' 2017-10-26 10:13:05.158757\n",
      "a movies: '1' 2017-10-26 10:13:05.158868\n",
      "a get_movie : '3882074' 2017-10-26 10:13:05.159054\n",
      "b get_movie : '3882074' 2017-10-26 10:13:13.969044\n",
      "b movies: '1' 2017-10-26 10:13:13.969307\n",
      "The Eagle Huntress Error was caused by: 'int' object has no attribute 'replace'\n",
      "The Eagle Huntress Error was caused by: 'list' object has no attribute 'replace'\n",
      "The Eagle Huntress Error was caused by: 'list' object has no attribute 'replace'\n",
      "The Eagle Huntress Error was caused by: 'float' object has no attribute 'replace'\n",
      "The Eagle Huntress Error was caused by: 'int' object has no attribute 'replace'\n",
      "The Eagle Huntress Error was caused by: 'list' object has no attribute 'replace'\n",
      "The Eagle Huntress Error was caused by: 'list' object has no attribute 'replace'\n",
      "The Eagle Huntress Error was caused by: 'list' object has no attribute 'replace'\n",
      "The Eagle Huntress Error was caused by: 'business'\n",
      " Error was caused by: string indices must be integers, not str\n",
      "The Eagle Huntress Error was caused by: 'float' object has no attribute 'replace'\n",
      "The Eagle Huntress Error was caused by: 'dict' object has no attribute 'replace'\n",
      "The Eagle Huntress Error was caused by: 'dict' object has no attribute 'replace'\n",
      "The Eagle Huntress Error was caused by: 'int' object has no attribute 'replace'\n",
      "The Eagle Huntress Error was caused by: 'list' object has no attribute 'replace'\n",
      "The Eagle Huntress Error was caused by: 'list' object has no attribute 'replace'\n",
      "The Eagle Huntress Error was caused by: 'list' object has no attribute 'replace'\n",
      "The Eagle Huntress Error was caused by: 'list' object has no attribute 'replace'\n",
      "Movie  The Eagle Huntress  is now added to the file!\n",
      "a person: 'writer' 2017-10-26 10:13:13.971939\n",
      "b person: 'writer' 2017-10-26 10:13:13.972069\n",
      "a movies: '0' 2017-10-26 10:13:13.972175\n",
      "b movies: '0' 2017-10-26 10:13:13.972278\n",
      "a person: 'actor' 2017-10-26 10:13:13.972403\n",
      "b person: 'actor' 2017-10-26 10:13:13.972495\n",
      "a movies: '0' 2017-10-26 10:13:13.972596\n",
      "b movies: '0' 2017-10-26 10:13:13.972697\n",
      "a person: 'actress' 2017-10-26 10:13:13.972830\n",
      "b person: 'actress' 2017-10-26 10:13:13.973001\n",
      "a movies: '23' 2017-10-26 10:13:13.973164\n",
      "a get_movie : '2076822' 2017-10-26 10:13:13.973317\n",
      "b get_movie : '2076822' 2017-10-26 10:13:22.786595\n",
      "a get_movie : '5117670' 2017-10-26 10:13:22.786703\n",
      "b get_movie : '5117670' 2017-10-26 10:13:31.262762\n",
      "a get_movie : '5690810' 2017-10-26 10:13:31.262965\n",
      "b get_movie : '5690810' 2017-10-26 10:13:39.060629\n",
      "a get_movie : '2527336' 2017-10-26 10:13:39.060740\n",
      "b get_movie : '2527336' 2017-10-26 10:13:54.018124\n",
      "a get_movie : '5710996' 2017-10-26 10:13:54.018254\n",
      "b get_movie : '5710996' 2017-10-26 10:14:01.989307\n",
      "a get_movie : '3402236' 2017-10-26 10:14:01.989678\n",
      "b get_movie : '3402236' 2017-10-26 10:14:10.504147\n",
      "a get_movie : '6463720' 2017-10-26 10:14:10.504371\n",
      "b get_movie : '6463720' 2017-10-26 10:14:17.746404\n",
      "a get_movie : '2637372' 2017-10-26 10:14:17.746668\n",
      "b get_movie : '2637372' 2017-10-26 10:14:25.538978\n",
      "a get_movie : '6779076' 2017-10-26 10:14:25.539238\n",
      "b get_movie : '6779076' 2017-10-26 10:14:34.442243\n",
      "a get_movie : '5430544' 2017-10-26 10:14:34.442458\n",
      "b get_movie : '5430544' 2017-10-26 10:14:42.948306\n",
      "a get_movie : '2488496' 2017-10-26 10:14:42.948454\n",
      "b get_movie : '2488496' 2017-10-26 10:15:14.029152\n",
      "a get_movie : '0072562' 2017-10-26 10:15:14.029278\n",
      "b get_movie : '0072562' 2017-10-26 10:15:33.605067\n",
      "a get_movie : '2501366' 2017-10-26 10:15:33.605194\n",
      "b get_movie : '2501366' 2017-10-26 10:15:42.155404\n",
      "a get_movie : '4671444' 2017-10-26 10:15:42.155640\n",
      "b get_movie : '4671444' 2017-10-26 10:15:59.084075\n",
      "a get_movie : '2310212' 2017-10-26 10:15:59.084286\n",
      "b get_movie : '2310212' 2017-10-26 10:16:11.327924\n",
      "a get_movie : '0115355' 2017-10-26 10:16:11.328141\n",
      "b get_movie : '0115355' 2017-10-26 10:16:23.800632\n",
      "a get_movie : '2432604' 2017-10-26 10:16:23.800772\n",
      "b get_movie : '2432604' 2017-10-26 10:16:33.871313\n",
      "a get_movie : '5671416' 2017-10-26 10:16:33.871436\n",
      "b get_movie : '5671416' 2017-10-26 10:16:42.725446\n",
      "a get_movie : '2783314' 2017-10-26 10:16:42.725645\n",
      "b get_movie : '2783314' 2017-10-26 10:16:53.316361\n",
      "a get_movie : '2829562' 2017-10-26 10:16:53.316491\n",
      "b get_movie : '2829562' 2017-10-26 10:17:02.428317\n",
      "a get_movie : '0096555' 2017-10-26 10:17:02.428623\n",
      "b get_movie : '0096555' 2017-10-26 10:17:21.349177\n",
      "a get_movie : '3702134' 2017-10-26 10:17:21.349400\n"
     ]
    }
   ],
   "source": [
    "%matplotlib inline\n",
    "import csv_writer as cw\n",
    "import csv_data_parser as cdp\n",
    "import predict_n_write as pnw\n",
    "import facts"
   ]
  },
  {
   "cell_type": "code",
   "execution_count": null,
   "metadata": {
    "collapsed": true
   },
   "outputs": [],
   "source": [
    "facts.printFactsFromFile('Chuck Norris')"
   ]
  },
  {
   "cell_type": "code",
   "execution_count": null,
   "metadata": {
    "collapsed": true
   },
   "outputs": [],
   "source": [
    "\n",
    "facts.plotRatingToBudget('Chuck Norris')"
   ]
  }
 ],
 "metadata": {
  "kernelspec": {
   "display_name": "Python 2",
   "language": "python",
   "name": "python2"
  },
  "language_info": {
   "codemirror_mode": {
    "name": "ipython",
    "version": 2
   },
   "file_extension": ".py",
   "mimetype": "text/x-python",
   "name": "python",
   "nbconvert_exporter": "python",
   "pygments_lexer": "ipython2",
   "version": "2.7.12"
  }
 },
 "nbformat": 4,
 "nbformat_minor": 2
}
