{
 "cells": [
  {
   "cell_type": "code",
   "execution_count": 1,
   "metadata": {},
   "outputs": [
    {
     "data": {
      "text/html": [
       "<script>requirejs.config({paths: { 'plotly': ['https://cdn.plot.ly/plotly-latest.min']},});if(!window.Plotly) {{require(['plotly'],function(plotly) {window.Plotly=plotly;});}}</script>"
      ],
      "text/vnd.plotly.v1+html": [
       "<script>requirejs.config({paths: { 'plotly': ['https://cdn.plot.ly/plotly-latest.min']},});if(!window.Plotly) {{require(['plotly'],function(plotly) {window.Plotly=plotly;});}}</script>"
      ]
     },
     "metadata": {},
     "output_type": "display_data"
    }
   ],
   "source": [
    "\n",
    "%matplotlib inline\n",
    "import csv_writer as cw\n",
    "import csv_data_parser as cdp\n",
    "import facts\n",
    "import predict_n_write as pnw\n",
    "\n",
    "from plotly.offline import download_plotlyjs, init_notebook_mode, plot,iplot\n",
    "\n",
    "import numpy as np\n",
    "import pandas as pd\n",
    "\n",
    "init_notebook_mode(connected=True)\n"
   ]
  },
  {
   "cell_type": "code",
   "execution_count": 2,
   "metadata": {},
   "outputs": [
    {
     "name": "stdout",
     "output_type": "stream",
     "text": [
      "Christopher Nolan Ready!\n",
      "Mel Blanc Ready!\n",
      "Robert De Niro Ready!\n",
      "Steven Spielberg Ready!\n",
      "Anne Sellors Ready!\n",
      "David Hasselhoff Ready!\n",
      "Al Pacino Ready!\n",
      "Steven Seagal Ready!\n",
      "Brad Pitt Ready!\n",
      "Robert Down Jr Ready!\n",
      "Daisy Ridley Ready!\n",
      "Chuck Norris Ready!\n",
      "Charles Bronson Ready!\n",
      "Michael J. Fox Ready!\n",
      "Martin Scorsese Ready!\n",
      "Hyke Ray Ready!\n",
      "David Bowie Ready!\n",
      "Quentin Tarantino Ready!\n",
      "Ron Jeremy Ready!\n",
      "Arnold Schwarzenegger Ready!\n",
      "testi Ready!\n",
      "Sylvester Stallone Ready!\n",
      "Roger Corman Ready!\n"
     ]
    }
   ],
   "source": [
    "import os\n",
    "for filename in os.listdir('raw_data'):\n",
    "    filename = filename[0:-4]\n",
    "    cdp.clean(filename)"
   ]
  },
  {
   "cell_type": "code",
   "execution_count": 2,
   "metadata": {},
   "outputs": [
    {
     "name": "stdout",
     "output_type": "stream",
     "text": [
      "Brad Pitt.csv Ready!\n",
      "Al Pacino.csv Ready!\n",
      "Ron Jeremy.csv Ready!\n",
      "Roger Corman.csv Ready!\n"
     ]
    }
   ],
   "source": [
    "#for filename in os.listdir('parsed_data'):\n",
    "#    pnw.fillPredictedValues(filename)\n",
    "\n",
    "\n",
    "#pnw.fillPredictedValues('Brad Pitt.csv')\n",
    "#pnw.fillPredictedValues('Al Pacino.csv')\n",
    "#pnw.fillPredictedValues('Ron Jeremy.csv')\n",
    "#pnw.fillPredictedValues('Roger Corman.csv')\n"
   ]
  },
  {
   "cell_type": "code",
   "execution_count": 2,
   "metadata": {},
   "outputs": [
    {
     "name": "stdout",
     "output_type": "stream",
     "text": [
      "\n",
      "Roles in movies:\n",
      "producer    404\n",
      "director     55\n",
      "actor        32\n",
      "writer        8\n",
      "Name: role, dtype: int64 \n",
      "\n",
      "Most expensive movie:\n",
      "The Manchurian Candidate\n",
      " Role:actor Year:2004\n",
      " Budget: 80000000$\n",
      " Genres: Drama, Mystery, Sci-Fi, Thriller\n",
      " IMDb rating: 6.6 \n",
      "\n",
      "Cheapest movie:\n",
      "The Beast with a Million Eyes\n",
      " Role:producer Year:1955\n",
      " Budget: 23000$\n",
      " Genres: Horror, Sci-Fi\n",
      " IMDb rating: 3.4 \n",
      "\n",
      "Best rated movie:\n",
      "The Godfather: Part II\n",
      " Role:actor Year:1974\n",
      " Budget: 13000000$\n",
      " Genres: Crime, Drama\n",
      " IMDb rating: 9.0 \n",
      "\n",
      "Worst rated movie:\n",
      "Ultra Warrior\n",
      " Role:producer Year:1990\n",
      " Budget: Not known\n",
      " Genres: Action, Adventure, Sci-Fi\n",
      " IMDb rating: 1.6 \n",
      "\n"
     ]
    }
   ],
   "source": [
    "facts.printFactsFromFile('Roger Corman')"
   ]
  },
  {
   "cell_type": "code",
   "execution_count": 4,
   "metadata": {},
   "outputs": [],
   "source": [
    "#facts.plotRatingToBudget('David Hasselhoff')\n",
    "#facts.plotRatingToBudget('Al Pacino')\n",
    "#facts.plotRatingToBudget('Brad Pitt')\n",
    "#facts.plotRatingToBudget('Charles Bronson')\n",
    "#facts.plotRatingToBudget('Chuck Norris')\n",
    "\n",
    "\n",
    "#facts.plotRatingToBudget('Roger Corman')\n",
    "                         \n",
    "                         \n",
    "\n"
   ]
  },
  {
   "cell_type": "code",
   "execution_count": 12,
   "metadata": {},
   "outputs": [
    {
     "name": "stdout",
     "output_type": "stream",
     "text": [
      "File predicted_data/predictBrad Pitt.csv does not exist\n",
      "Maeby the name is written wrong or there is no file from  predictBrad Pitt\n",
      "Correlation between Year and Rating:\n",
      "            year    rating\n",
      "year    1.000000  0.195231\n",
      "rating  0.195231  1.000000\n",
      "Correlation: Budget and Rating\n",
      "          budget    rating\n",
      "budget  1.000000  0.102825\n",
      "rating  0.102825  1.000000\n",
      "\n",
      "Roles in movies:\n",
      "actor       66\n",
      "producer    40\n",
      "Name: role, dtype: int64 \n",
      "\n",
      "Most expensive movie:\n",
      "World War Z\n",
      " Role:producer Year:2013\n",
      " Budget: 190000000$\n",
      " Genres: Action, Adventure, Horror, Sci-Fi, Thriller\n",
      " IMDb rating: 7.0 \n",
      "\n",
      "Cheapest movie:\n",
      "Johnny Suede\n",
      " Role:actor Year:1991\n",
      " Budget: 500000$\n",
      " Genres: Comedy, Music, Romance\n",
      " IMDb rating: 5.8 \n",
      "\n",
      "Best rated movie:\n",
      "Fight Club\n",
      " Role:actor Year:1999\n",
      " Budget: 63000000$\n",
      " Genres: Drama\n",
      " IMDb rating: 8.8 \n",
      "\n",
      "Worst rated movie:\n",
      "Cutting Class\n",
      " Role:actor Year:1989\n",
      " Budget: Not known\n",
      " Genres: Comedy, Crime, Horror, Mystery, Thriller\n",
      " IMDb rating: 4.2 \n",
      "\n"
     ]
    }
   ],
   "source": [
    "#facts.plotRatingToYear('Brad Pitt')\n",
    "#facts.plotRatingToBudget('Brad Pitt')\n",
    "#facts.plotRatingToBudgetPredict('predictBrad Pitt')\n",
    "facts.correlationBetweenYearAndRating('Brad Pitt')\n",
    "facts.correlationBetweenBudgetAndRating('Brad Pitt')\n",
    "facts.printFactsFromFile('Brad Pitt')"
   ]
  },
  {
   "cell_type": "code",
   "execution_count": 7,
   "metadata": {},
   "outputs": [],
   "source": [
    "#facts.plotRatingToYear('Al Pacino')\n",
    "#facts.plotRatingToBudgetPredict('Al Pacino')\n",
    "#facts.correlationBetweenYearAndRating('Al Pacino')\n",
    "#facts.correlationBetweenBudgetAndRating('Al Pacino')\n",
    "#facts.printFactsFromFile('Al Pacino')"
   ]
  },
  {
   "cell_type": "code",
   "execution_count": 6,
   "metadata": {},
   "outputs": [],
   "source": [
    "#facts.plotRatingToYear('Ron Jeremy')\n",
    "#facts.plotRatingToBudgetPredict('Ron Jeremy')\n",
    "#facts.correlationBetweenYearAndRating('Ron Jeremy')\n",
    "#facts.correlationBetweenBudgetAndRating('Ron Jeremy')\n",
    "#facts.printFactsFromFile('Ron Jeremy')"
   ]
  },
  {
   "cell_type": "code",
   "execution_count": null,
   "metadata": {},
   "outputs": [],
   "source": [
    "#facts.plotRatingToYear('Roger Corman')\n",
    "#facts.plotRatingToBudgetPredict('Roger Corman')\n",
    "#facts.correlationBetweenYearAndRating('Roger Corman')\n",
    "#facts.correlationBetweenBudgetAndRating('Roger Corman')\n",
    "#facts.printFactsFromFile('Roger Corman')"
   ]
  }
 ],
 "metadata": {
  "kernelspec": {
   "display_name": "Python 2",
   "language": "python",
   "name": "python2"
  },
  "language_info": {
   "codemirror_mode": {
    "name": "ipython",
    "version": 2
   },
   "file_extension": ".py",
   "mimetype": "text/x-python",
   "name": "python",
   "nbconvert_exporter": "python",
   "pygments_lexer": "ipython2",
   "version": "2.7.12"
  }
 },
 "nbformat": 4,
 "nbformat_minor": 2
}
