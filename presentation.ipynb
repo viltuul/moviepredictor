{
 "cells": [
  {
   "cell_type": "code",
   "execution_count": 2,
   "metadata": {},
   "outputs": [],
   "source": [
    "\n",
    "%matplotlib inline\n",
    "import csv_writer as cw\n",
    "import csv_data_parser as cdp\n",
    "import facts\n",
    "import predict_n_write as pnw\n"
   ]
  },
  {
   "cell_type": "code",
   "execution_count": null,
   "metadata": {},
   "outputs": [
    {
     "name": "stdout",
     "output_type": "stream",
     "text": [
      "Creating the csv file. Please wait. This might take a minute.\n",
      "a search_person 'Christian Bale' 2017-10-26 11:06:14.359544\n",
      "Person\n",
      "=====\n",
      "Name: Bale, Christian\n",
      "\n",
      "b search_person 'Christian Bale' 2017-10-26 11:06:17.289472\n",
      "a get_person: '0000288' 2017-10-26 11:06:17.289746\n",
      "Person\n",
      "=====\n",
      "Name: Bale, Christian\n",
      "Birth date: 1974-1-30 (Haverfordwest, Pembrokeshire, Wales, UK).\n",
      "Biography: Christian Charles Philip Bale was born in Pembrokeshire, Wales, UK on January 30, 1974, to English parents Jennifer \"Jenny\" (James) and David Charles Howard Bale. His mother was a circus performer and his father, who was born in South Africa, was a commercial pilot. The family lived in different countries throughout Bale's childhood, including England, Portugal, and the United States. Bale acknowledges the constant change was one of the influences on his career choice.His first acting job was a cereal commercial in 1983; amazingly, the next year, he debuted on the West End stage in \"The Nerd\". A role in the 1986 NBC mini-series Anastasia: The Mystery of Anna (1986) caught Steven Spielberg's eye, leading to Bale's well-documented role in Empire of the Sun (1987). For the range of emotions he displayed as the star of the war epic, he earned a special award by the National Board of Review for Best Performance by a Juvenile Actor.Adjusting to fame and his difficulties with attention (he thought about quitting acting early on), Bale appeared in Kenneth Branagh's 1989 adaptation of Shakespeare's Henry V (1989) and starred as Jim Hawkins in a TV movie version of Treasure Island (1990). Bale worked consistently through the 1990s, acting and singing in Newsies (1992), Swing Kids (1993), Little Women (1994), The Portrait of a Lady (1996), The Secret Agent (1996), Keskellä elämää (1997), Velvet Goldmine (1998), All the Little Animals (1998), and A Midsummer Night's Dream (1999). Toward the end of the decade, with the rise of the Internet, Bale found himself becoming one of the most popular online celebrities around, though he, with a couple notable exceptions, maintained a private, tabloid-free mystique.Bale roared into the next decade with a lead role in American Psycho (2000), director Mary Harron's adaptation of the controversial Bret Easton Ellis novel. In the film, Bale played a murderous Wall Street executive obsessed with his own physicality - a trait for which Bale would become a specialist. Subsequently, the 10th Anniversary issue for \"Entertainment Weekly\" crowned Bale one of the \"Top 8 Most Powerful Cult Figures\" of the past decade, citing his cult status on the Internet. EW also called Bale one of the \"Most Creative People in Entertainment\", and \"Premiere\" lauded him as one of the \"Hottest Leading Men Under 30\".Bale was truly on the Hollywood radar at this time, and he turned in a range of performances in the remake Shaft (2000), Captain Corelli's Mandolin (2001), the balmy Laurel Canyon (2002), and Reign of Fire (2002), a dragons-and-magic commercial misfire that has its share of defenders.Two more cult films followed: Equilibrium (2002) and The Machinist (2004), the latter of which gained attention mainly due to Bale's physical transformation - he dropped a reported 60+ pounds for the role of a lathe operator with a secret that causes him to suffer from insomnia for over a year.Bale's abilities to transform his body and to disappear into a character influenced the decision to cast him in Batman Begins (2005), the first chapter in Christopher Nolan's definitive trilogy that proved a dark-themed narrative could resonate with audiences worldwide. The film also resurrected a character that had been shelved by Warner Bros. after a series of demising returns, capped off by the commercial and critical failure of Batman & Robin (1997). A quiet, personal victory for Bale: he accepted the role after the passing of his father in late 2003, an event that caused him to question whether he would continue performing.Bale segued into two indie features in the wake of Batman's phenomenal success: The New World (2005) and Harsh Times (2005). He continued working with respected independent directors in 2006's Rescue Dawn (2006), Werner Herzog's feature version of his earlier, Emmy-nominated documentary, Little Dieter Needs to Fly (1997). Leading up to the second Batman film, Bale starred in The Prestige (2006), the remake of 3:10 to Yuma (2007), and a reunion with director Todd Haynes in the experimental Bob Dylan biography, I'm Not There. (2007).Anticipation for The Dark Knight (2008) was spun into unexpected heights with the tragic passing of Heath Ledger, whose performance as The Joker became the highlight of the sequel. Bale's graceful statements to the press reminded us of the days of the refined Hollywood star as the second installment exceeded the box-office performance of its predecessor.Bale's next role was the eyebrow-raising decision to take over the role of John Connor in the Schwarzenegger-less Terminator Salvation (2009), followed by a turn as federal agent Melvin Purvis in Michael Mann's Public Enemies (2009). Both films were hits but not the blockbusters they were expected to be.For all his acclaim and box-office triumphs, Bale would earn his first Oscar in 2011 in the wake of The Fighter (2010)'s critical and commercial success. Bale earned the Best Supporting Actor award for his portrayal of Dicky Eklund, brother to and trainer of boxer \"Irish\" Micky Ward, played by Mark Wahlberg. Bale again showed his ability to reshape his body with another gaunt, skeletal transformation.Bale then turned to another auteur, Yimou Zhang, for the epic The Flowers of War: Taistelu vapaudesta (2011), in which Bale portrayed a priest trapped in the midst of the Rape of Nanking. Bale earned headlines for his attempt to visit with Chinese civil-rights activist Chen Guangcheng, which was blocked by the Chinese government.Bale capped his role as Bruce Wayne/Batman in The Dark Knight Rises (2012); in the wake of the Aurora, Colorado tragedy, Bale made a quiet pilgrimage to the state to visit with survivors of the attack that left theatergoers dead and injured. He also starred in the thriller Out of the Furnace (2013) with Crazy Heart (2009) writer/director Scott Cooper, and the drama-comedy American Hustle (2013), reuniting with David O. Russell.Bale will re-team with The New World (2005) director Terrence Malick for two upcoming projects: Knight of Cups (2015) and an as-yet-untitled drama.In his personal life, he devotes time to charities including Greenpeace and the World Wildlife Foundation. He lives with his wife, Sibi Blazic, and their daughter, Emmeline.::Anonymous\n",
      "Last movies acted: Jungle Book, The (2018); Untitled Adam McKay/Dick Cheney Film () (????); Hostiles (2017); Promise (II), The (II) (2016); Big Short, The (2015).\n",
      "\n",
      "b get_person: '0000288' 2017-10-26 11:06:20.293137\n",
      "a person: 'producer' 2017-10-26 11:06:20.293388\n",
      "b person: 'producer' 2017-10-26 11:06:20.293459\n",
      "a movies: '1' 2017-10-26 11:06:20.293511\n",
      "a get_movie : '0433387' 2017-10-26 11:06:20.293681\n",
      "b get_movie : '0433387' 2017-10-26 11:06:27.854128\n",
      "b movies: '1' 2017-10-26 11:06:27.854506\n",
      "Harsh Times Error was caused by: 'int' object has no attribute 'replace'\n",
      "Harsh Times Error was caused by: 'list' object has no attribute 'replace'\n",
      "Harsh Times Error was caused by: 'list' object has no attribute 'replace'\n",
      "Harsh Times Error was caused by: 'float' object has no attribute 'replace'\n",
      "Harsh Times Error was caused by: 'int' object has no attribute 'replace'\n",
      "Harsh Times Error was caused by: 'list' object has no attribute 'replace'\n",
      "Harsh Times Error was caused by: 'list' object has no attribute 'replace'\n",
      "Harsh Times Error was caused by: 'list' object has no attribute 'replace'\n",
      "Harsh Times Error was caused by: 'business'\n",
      " Error was caused by: string indices must be integers, not str\n",
      "Harsh Times Error was caused by: 'float' object has no attribute 'replace'\n",
      "Harsh Times Error was caused by: 'dict' object has no attribute 'replace'\n",
      "Harsh Times Error was caused by: 'dict' object has no attribute 'replace'\n",
      "Harsh Times Error was caused by: 'int' object has no attribute 'replace'\n",
      "Harsh Times Error was caused by: 'list' object has no attribute 'replace'\n",
      "Harsh Times Error was caused by: 'list' object has no attribute 'replace'\n",
      "Harsh Times Error was caused by: 'list' object has no attribute 'replace'\n",
      "Harsh Times Error was caused by: 'list' object has no attribute 'replace'\n",
      "Movie  Harsh Times  is now added to the file!\n",
      "a person: 'writer' 2017-10-26 11:06:27.859791\n",
      "b person: 'writer' 2017-10-26 11:06:27.859928\n",
      "a movies: '0' 2017-10-26 11:06:27.860088\n",
      "b movies: '0' 2017-10-26 11:06:27.860191\n",
      "a person: 'actor' 2017-10-26 11:06:27.860285\n",
      "b person: 'actor' 2017-10-26 11:06:27.860396\n",
      "a movies: '51' 2017-10-26 11:06:27.860528\n",
      "a get_movie : '2388771' 2017-10-26 11:06:27.860617\n"
     ]
    },
    {
     "name": "stdout",
     "output_type": "stream",
     "text": [
      "b get_movie : '2388771' 2017-10-26 11:06:35.551887\n",
      "a get_movie : '6266538' 2017-10-26 11:06:35.552013\n",
      "b get_movie : '6266538' 2017-10-26 11:06:50.220181\n",
      "a get_movie : '5478478' 2017-10-26 11:06:50.220387\n",
      "b get_movie : '5478478' 2017-10-26 11:06:58.971774\n",
      "a get_movie : '4776998' 2017-10-26 11:06:58.971905\n",
      "b get_movie : '4776998' 2017-10-26 11:07:09.489451\n",
      "a get_movie : '1596363' 2017-10-26 11:07:09.489564\n",
      "b get_movie : '1596363' 2017-10-26 11:07:18.621236\n",
      "a get_movie : '2101383' 2017-10-26 11:07:18.621359\n",
      "b get_movie : '2101383' 2017-10-26 11:07:30.939763\n",
      "a get_movie : '1528100' 2017-10-26 11:07:30.939902\n",
      "b get_movie : '1528100' 2017-10-26 11:07:44.109445\n",
      "a get_movie : '1800241' 2017-10-26 11:07:44.109564\n",
      "b get_movie : '1800241' 2017-10-26 11:07:56.673730\n",
      "a get_movie : '1206543' 2017-10-26 11:07:56.674082\n",
      "b get_movie : '1206543' 2017-10-26 11:08:07.190859\n",
      "a get_movie : '1345836' 2017-10-26 11:08:07.190977\n",
      "b get_movie : '1345836' 2017-10-26 11:08:26.667701\n",
      "a get_movie : '1410063' 2017-10-26 11:08:26.668050\n",
      "b get_movie : '1410063' 2017-10-26 11:08:38.698999\n",
      "a get_movie : '0964517' 2017-10-26 11:08:38.699131\n",
      "b get_movie : '0964517' 2017-10-26 11:08:49.919819\n",
      "a get_movie : '1152836' 2017-10-26 11:08:49.919935\n",
      "b get_movie : '1152836' 2017-10-26 11:09:01.217403\n",
      "a get_movie : '0438488' 2017-10-26 11:09:01.217524\n",
      "b get_movie : '0438488' 2017-10-26 11:09:17.593490\n",
      "a get_movie : '0468569' 2017-10-26 11:09:17.593841\n",
      "b get_movie : '0468569' 2017-10-26 11:09:33.444204\n",
      "a get_movie : '0368794' 2017-10-26 11:09:33.444495\n",
      "b get_movie : '0368794' 2017-10-26 11:10:19.148729\n",
      "a get_movie : '0381849' 2017-10-26 11:10:19.148852\n",
      "b get_movie : '0381849' 2017-10-26 11:10:29.050868\n",
      "a get_movie : '0482571' 2017-10-26 11:10:29.051010\n",
      "b get_movie : '0482571' 2017-10-26 11:10:37.865854\n",
      "a get_movie : '0462504' 2017-10-26 11:10:37.866038\n",
      "b get_movie : '0462504' 2017-10-26 11:10:46.193824\n",
      "a get_movie : '0402399' 2017-10-26 11:10:46.194026\n",
      "b get_movie : '0402399' 2017-10-26 11:10:56.005114\n",
      "a get_movie : '0433387' 2017-10-26 11:10:56.005391\n",
      "b get_movie : '0433387' 2017-10-26 11:11:05.219563\n",
      "a get_movie : '0450392' 2017-10-26 11:11:05.219681\n",
      "b get_movie : '0450392' 2017-10-26 11:11:12.599462\n",
      "a get_movie : '0372784' 2017-10-26 11:11:12.599581\n",
      "b get_movie : '0372784' 2017-10-26 11:11:27.258989\n",
      "a get_movie : '0347149' 2017-10-26 11:11:27.259115\n",
      "b get_movie : '0347149' 2017-10-26 11:11:35.668428\n",
      "a get_movie : '0361862' 2017-10-26 11:11:35.668827\n",
      "b get_movie : '0361862' 2017-10-26 11:11:44.099659\n",
      "a get_movie : '0238380' 2017-10-26 11:11:44.099781\n",
      "b get_movie : '0238380' 2017-10-26 11:11:54.679795\n",
      "a get_movie : '0253556' 2017-10-26 11:11:54.680172\n",
      "b get_movie : '0253556' 2017-10-26 11:12:08.194320\n",
      "a get_movie : '0298408' 2017-10-26 11:12:08.195139\n",
      "b get_movie : '0298408' 2017-10-26 11:12:18.875249\n",
      "a get_movie : '0238112' 2017-10-26 11:12:18.875454\n",
      "b get_movie : '0238112' 2017-10-26 11:12:30.328842\n",
      "a get_movie : '0162650' 2017-10-26 11:12:30.329147\n",
      "b get_movie : '0162650' 2017-10-26 11:12:41.866866\n",
      "a get_movie : '0144084' 2017-10-26 11:12:41.867400\n",
      "b get_movie : '0144084' 2017-10-26 11:12:55.431742\n",
      "a get_movie : '0214930' 2017-10-26 11:12:55.431929\n",
      "b get_movie : '0214930' 2017-10-26 11:13:04.165165\n",
      "a get_movie : '0140379' 2017-10-26 11:13:04.165286\n",
      "b get_movie : '0140379' 2017-10-26 11:13:15.204674\n",
      "a get_movie : '0120584' 2017-10-26 11:13:15.205067\n",
      "b get_movie : '0120584' 2017-10-26 11:13:24.889923\n",
      "a get_movie : '0120879' 2017-10-26 11:13:24.890190\n",
      "b get_movie : '0120879' 2017-10-26 11:13:32.482767\n",
      "a get_movie : '0119665' 2017-10-26 11:13:32.482980\n",
      "b get_movie : '0119665' 2017-10-26 11:13:43.650447\n",
      "a get_movie : '0117582' 2017-10-26 11:13:43.650699\n",
      "b get_movie : '0117582' 2017-10-26 11:13:52.752003\n",
      "a get_movie : '0117364' 2017-10-26 11:13:52.752220\n",
      "b get_movie : '0117364' 2017-10-26 11:14:01.844151\n",
      "a get_movie : '0114148' 2017-10-26 11:14:01.844514\n"
     ]
    }
   ],
   "source": [
    "cw.createInfCSV('Christian Bale')"
   ]
  },
  {
   "cell_type": "code",
   "execution_count": 3,
   "metadata": {},
   "outputs": [
    {
     "name": "stdout",
     "output_type": "stream",
     "text": [
      "Sylvester Stallone Ready!\n"
     ]
    }
   ],
   "source": [
    "cdp.clean('Sylvester Stallone')"
   ]
  },
  {
   "cell_type": "code",
   "execution_count": 4,
   "metadata": {},
   "outputs": [
    {
     "name": "stdout",
     "output_type": "stream",
     "text": [
      "\n",
      "Roles in movies:\n",
      "actor       73\n",
      "writer      27\n",
      "producer    12\n",
      "director    10\n",
      "Name: role, dtype: int64 \n",
      "\n",
      "Most expensive movie:\n",
      "Guardians of the Galaxy Vol. 2\n",
      " Role:actor Year:2017\n",
      " Budget: 200000000$\n",
      " Genres: Action, Adventure, Sci-Fi\n",
      " IMDb rating: 7.8 \n",
      "\n",
      "Cheapest movie:\n",
      "The Party at Kitty and Stud's\n",
      " Role:actor Year:1970\n",
      " Budget: 5000$\n",
      " Genres: Comedy, Drama\n",
      " IMDb rating: 2.8 \n",
      "\n",
      "Best rated movie:\n",
      "Rocky 3 in the Playroom\n",
      " Role:writer Year:2012\n",
      " Budget: Not known\n",
      " Genres: Short, Comedy, Sport\n",
      " IMDb rating: 8.4 \n",
      "\n",
      "Worst rated movie:\n",
      "The Party at Kitty and Stud's\n",
      " Role:actor Year:1970\n",
      " Budget: 5000$\n",
      " Genres: Comedy, Drama\n",
      " IMDb rating: 2.8 \n",
      "\n"
     ]
    }
   ],
   "source": [
    "facts.printFactsFromFile('Sylvester Stallone')"
   ]
  },
  {
   "cell_type": "code",
   "execution_count": null,
   "metadata": {},
   "outputs": [],
   "source": [
    "facts.plotRatingToBudget('David Hasselhoff')"
   ]
  }
 ],
 "metadata": {
  "kernelspec": {
   "display_name": "Python 2",
   "language": "python",
   "name": "python2"
  },
  "language_info": {
   "codemirror_mode": {
    "name": "ipython",
    "version": 2
   },
   "file_extension": ".py",
   "mimetype": "text/x-python",
   "name": "python",
   "nbconvert_exporter": "python",
   "pygments_lexer": "ipython2",
   "version": "2.7.12"
  }
 },
 "nbformat": 4,
 "nbformat_minor": 2
}
